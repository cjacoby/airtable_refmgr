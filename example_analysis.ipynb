{
 "cells": [
  {
   "cell_type": "markdown",
   "metadata": {},
   "source": [
    "# Airtable Reference Manager Tools\n",
    "### Analysis and more, with airtable+pandas"
   ]
  },
  {
   "cell_type": "code",
   "execution_count": 59,
   "metadata": {
    "collapsed": false
   },
   "outputs": [],
   "source": [
    "# Initialize The API classes\n",
    "import airtable.api\n",
    "import pandas\n",
    "import pprint\n",
    "api = airtable.api.AirtableAPI()\n",
    "refapi = airtable.api.ReferencesAPI()\n",
    "authors_api = airtable.api.AuthorsAPI()\n",
    "\n",
    "rdf = refapi.to_df()\n",
    "author_df = authors_api.to_df()"
   ]
  },
  {
   "cell_type": "markdown",
   "metadata": {},
   "source": [
    "# Simple Lookups"
   ]
  },
  {
   "cell_type": "code",
   "execution_count": 44,
   "metadata": {
    "collapsed": false
   },
   "outputs": [
    {
     "name": "stdout",
     "output_type": "stream",
     "text": [
      "Papers Authored by recnGiiDyErc3FXrf    Jurgen Schmidhuber\n",
      "Name: Author Name, dtype: object\n",
      "                                                               Title  Year\n",
      "recMLeRzdy0XRWCMN  A first look at music composition using lstm r...  2002\n"
     ]
    }
   ],
   "source": [
    "# Get all papers authored by an author\n",
    "selected_author = author_df.sample()\n",
    "print \"Papers Authored by {}\".format(selected_author['Author Name'])\n",
    "print rdf.loc[selected_author['Papers Authored'][0]][['Title', 'Year']]"
   ]
  },
  {
   "cell_type": "code",
   "execution_count": 55,
   "metadata": {
    "collapsed": false
   },
   "outputs": [
    {
     "name": "stdout",
     "output_type": "stream",
     "text": [
      "Authors from paper recdvTIvsjGt0Mdr5    Recurrent neural networks for music computation\n",
      "Name: Title, dtype: object\n",
      "                        Author Name\n",
      "recBIc6L00JkEgSlI  Judy A. Franklin\n"
     ]
    }
   ],
   "source": [
    "# Get all authors from a paper authored by an author\n",
    "selected_paper = rdf.sample()\n",
    "print \"Authors from paper {}\".format(selected_paper['Title'])\n",
    "print author_df.loc[selected_paper['Authors'][0]][['Author Name']]"
   ]
  },
  {
   "cell_type": "markdown",
   "metadata": {},
   "source": [
    "# Stats"
   ]
  },
  {
   "cell_type": "code",
   "execution_count": 182,
   "metadata": {
    "collapsed": false
   },
   "outputs": [
    {
     "data": {
      "text/plain": [
       "1997    2\n",
       "2001    1\n",
       "2002    2\n",
       "2005    1\n",
       "2006    2\n",
       "2007    1\n",
       "2011    1\n",
       "2012    1\n",
       "2013    1\n",
       "2014    2\n",
       "2015    2\n",
       "2016    1\n",
       "Name: Year, dtype: int64"
      ]
     },
     "execution_count": 182,
     "metadata": {},
     "output_type": "execute_result"
    }
   ],
   "source": [
    "# Number of papers from each year\n",
    "rdf['Year'].value_counts().sort_index()"
   ]
  },
  {
   "cell_type": "code",
   "execution_count": 183,
   "metadata": {
    "collapsed": false
   },
   "outputs": [
    {
     "name": "stdout",
     "output_type": "stream",
     "text": [
      "            Author Name  N Authored\n",
      "               S Keshav           1\n",
      "         Paolo Frasconi           1\n",
      "              DP Kingma           1\n",
      "       Judy A. Franklin           1\n",
      "   Abdel-rahman Mohamed           1\n",
      "         Ilya Sutskever           3\n",
      "              mark sand           1\n",
      " Ruslan R Salakhutdinov           1\n",
      "       Wojciech Zaremba           1\n",
      "           Mark Sandler         NaN\n",
      "      Kuldip K. Paliwal           1\n",
      "     Christian Szegedey           1\n",
      "           Keunwoo Choi           1\n",
      "          Oriol Vinyals           1\n",
      "        Sepp Hochreiter           2\n",
      "          Mike Schuster           1\n",
      "          James Martens           1\n",
      "      Andrew J. Lambert           1\n",
      "            Alex Graves           3\n",
      "     Jurgen Schmidhuber           5\n",
      "         George Fazekas           1\n",
      "          Tillman Weyde           1\n",
      "          Yoshua Bengio           1\n",
      "       Newton Armstrong           1\n",
      "        Geoffrey Hinton           4\n",
      "   Nicol N. Schraudolph           1\n",
      "     Jurgen Schmidhuber           1\n",
      "          Felix A. Gers           1\n",
      "        Alex Krizhevsky           1\n",
      "           Sergey Ioffe           1\n",
      "                   J Ba           1\n",
      "            Douglas Eck           1\n",
      "         Navdeep Jaitly           1\n"
     ]
    }
   ],
   "source": [
    "# Number of papers published by each author\n",
    "n_authored = pandas.Series(author_df['Papers Authored'].dropna().map(lambda x: len(x)), name='N Authored')\n",
    "print author_df.join(n_authored)[['Author Name', 'N Authored']].to_string(index=False)"
   ]
  },
  {
   "cell_type": "markdown",
   "metadata": {},
   "source": [
    "# Author Graphs\n",
    "Now a little fun with author connections"
   ]
  },
  {
   "cell_type": "code",
   "execution_count": 193,
   "metadata": {
    "collapsed": false
   },
   "outputs": [
    {
     "name": "stdout",
     "output_type": "stream",
     "text": [
      "Searching for author: Geoffrey Hinton\n",
      "\n",
      "This author shares papers with:\n",
      "    Author Name\n",
      "    Alex Graves\n",
      " Ilya Sutskever\n"
     ]
    }
   ],
   "source": [
    "# Get All 1-step connections to an author\n",
    "selected_author = author_df.sample()\n",
    "print \"Searching for author: {}\".format(selected_author['Author Name'][0])\n",
    "# Get all papers by that author\n",
    "papers = rdf.loc[selected_author['Papers Authored'][0]]\n",
    "# Get All authors from those papers, minus the selected author.\n",
    "author_list = []\n",
    "for index, paper in papers.iterrows():\n",
    "    author_list.append(paper['Authors'][0])\n",
    "shared_authors = set(author_list) - set(selected_author.index)\n",
    "\n",
    "print\n",
    "print \"This author shares papers with:\"\n",
    "print author_df.loc[shared_authors][['Author Name']].to_string(index=False)"
   ]
  },
  {
   "cell_type": "markdown",
   "metadata": {},
   "source": [
    "# BibTex\n",
    "## Creating a bibtex markup.\n",
    "\n",
    "Since you ahve included the raw BibTex Markup in the reference table, making your bibtex file is now easy!"
   ]
  },
  {
   "cell_type": "code",
   "execution_count": 168,
   "metadata": {
    "collapsed": false,
    "scrolled": true
   },
   "outputs": [
    {
     "name": "stdout",
     "output_type": "stream",
     "text": [
      "%% Bibtex file generated from Airtable Reference Manager\n",
      "%% Generated at 2016-06-12 12:02:03.344259\n",
      "\n",
      "@article{keshav2007read,\n",
      "  title={How to read a paper},\n",
      "  author={Keshav, S},\n",
      "  journal={ACM SIGCOMM Computer Communication Review},\n",
      "  volume={37},\n",
      "  number={3},\n",
      "  pages={83--84},\n",
      "  year={2007},\n",
      "  publisher={ACM}\n",
      "},\n",
      "@inproceedings{sutskever2011generating,\n",
      "  title={Generating text with recurrent neural networks},\n",
      "  author={Sutskever, Ilya and Martens, James and Hinton, Geoffrey E},\n",
      "  booktitle={Proceedings of the 28th International Conference on Machine Learning (ICML-11)},\n",
      "  pages={1017--1024},\n",
      "  year={2011}\n",
      "},\n",
      "@article{choi2016text,\n",
      "  title={Text-based LSTM networks for Automatic Music Composition},\n",
      "  author={Choi, Keunwoo and Fazekas, George and Sandler, Mark},\n",
      "  journal={arXiv preprint arXiv:1604.05358},\n",
      "  year={2016}\n",
      "},\n",
      "@article{eck2002first,\n",
      "  title={A first look at music composition using lstm recurrent neural networks},\n",
      "  author={Eck, Douglas and Schmidhuber, Juergen},\n",
      "  journal={Istituto Dalle Molle Di Studi Sull Intelligenza Artificiale},\n",
      "  volume={103},\n",
      "  year={2002}\n",
      "},\n",
      "@article{schuster1997bidirectional,\n",
      "  title={Bidirectional recurrent neural networks},\n",
      "  author={Schuster, Mike and Paliwal, Kuldip K},\n",
      "  journal={Signal Processing, IEEE Transactions on},\n",
      "  volume={45},\n",
      "  number={11},\n",
      "  pages={2673--2681},\n",
      "  year={1997},\n",
      "  publisher={IEEE}\n",
      "},\n",
      "@article{hinton2006reducing,\n",
      "  title={Reducing the dimensionality of data with neural networks},\n",
      "  author={Hinton, Geoffrey E and Salakhutdinov, Ruslan R},\n",
      "  journal={Science},\n",
      "  volume={313},\n",
      "  number={5786},\n",
      "  pages={504--507},\n",
      "  year={2006},\n",
      "  publisher={American Association for the Advancement of Science}\n",
      "},\n",
      "@article{graves2005framewise,\n",
      "  title={Framewise phoneme classification with bidirectional LSTM and other neural network architectures},\n",
      "  author={Graves, Alex and Schmidhuber, J{\\\"u}rgen},\n",
      "  journal={Neural Networks},\n",
      "  volume={18},\n",
      "  number={5},\n",
      "  pages={602--610},\n",
      "  year={2005},\n",
      "  publisher={Elsevier}\n",
      "},\n",
      "@inproceedings{krizhevsky2012imagenet,\n",
      "  title={Imagenet classification with deep convolutional neural networks},\n",
      "  author={Krizhevsky, Alex and Sutskever, Ilya and Hinton, Geoffrey E},\n",
      "  booktitle={Advances in neural information processing systems},\n",
      "  pages={1097--1105},\n",
      "  year={2012}\n",
      "},\n",
      "@article{franklin2006recurrent,\n",
      "  title={Recurrent neural networks for music computation},\n",
      "  author={Franklin, Judy A},\n",
      "  journal={INFORMS Journal on Computing},\n",
      "  volume={18},\n",
      "  number={3},\n",
      "  pages={321--338},\n",
      "  year={2006},\n",
      "  publisher={INFORMS}\n",
      "},\n",
      "@article{lambert2015perceiving,\n",
      "  title={PERCEIVING AND PREDICTING EXPRESSIVE RHYTHM WITH RECURRENT NEURAL NETWORKS},\n",
      "  author={Lambert, Andrew J and Weyde, Tillman and Armstrong, Newton},\n",
      "  year={2015}\n",
      "},\n",
      "@article{zaremba2014recurrent,\n",
      "  title={Recurrent neural network regularization},\n",
      "  author={Zaremba, Wojciech and Sutskever, Ilya and Vinyals, Oriol},\n",
      "  journal={arXiv preprint arXiv:1409.2329},\n",
      "  year={2014}\n",
      "},\n",
      "@article{gers2003learning,\n",
      "  title={Learning precise timing with LSTM recurrent networks},\n",
      "  author={Gers, Felix A and Schraudolph, Nicol N and Schmidhuber, J{\\\"u}rgen},\n",
      "  journal={The Journal of Machine Learning Research},\n",
      "  volume={3},\n",
      "  pages={115--143},\n",
      "  year={2003},\n",
      "  publisher={JMLR. org}\n",
      "},\n",
      "@inproceedings{graves2013speech,\n",
      "  title={Speech recognition with deep recurrent neural networks},\n",
      "  author={Graves, Alex and Mohamed, Abdel-rahman and Hinton, Geoffrey},\n",
      "  booktitle={Acoustics, Speech and Signal Processing (ICASSP), 2013 IEEE International Conference on},\n",
      "  pages={6645--6649},\n",
      "  year={2013},\n",
      "  organization={IEEE}\n",
      "},\n",
      "@misc{hochreiter2001gradient,\n",
      "  title={Gradient flow in recurrent nets: the difficulty of learning long-term dependencies},\n",
      "  author={Hochreiter, Sepp and Bengio, Yoshua and Frasconi, Paolo and Schmidhuber, J{\\\"u}rgen},\n",
      "  year={2001},\n",
      "  publisher={A field guide to dynamical recurrent neural networks. IEEE Press}\n",
      "},\n",
      "@misc{kingmaadam,\n",
      "  title={Adam: A method for stochastic optimization. CoRR abs/1412.6980 (2014)},\n",
      "  author={Kingma, DP and Ba, J}\n",
      "},\n",
      "@inproceedings{icml2014c2_graves14, \n",
      "    Publisher = {JMLR Workshop and Conference Proceedings}, \n",
      "    Title = {Towards End-To-End Speech Recognition with Recurrent Neural Networks}, \n",
      "    Url = {http://jmlr.org/proceedings/papers/v32/graves14.pdf}, \n",
      "    Abstract = {This paper presents a speech recognition system that directly transcribes audio data with text, without requiring an intermediate phonetic representation. The system is based on a combination of the deep bidirectional LSTM recurrent neural network architecture and the Connectionist Temporal Classification objective function. A modification to the objective function is introduced that trains the network to minimise the expectation of an arbitrary transcription loss function. This allows a direct optimisation of the word error rate, even in the absence of a lexicon or language model. The system achieves a word error rate of 27.3% on the Wall Street Journal corpus with no prior linguistic information, 21.9% with only a lexicon of allowed words, and 8.2% with a trigram language model. Combining the network with a baseline system further reduces the error rate to 6.7%.}, \n",
      "    Author = {Alex Graves and Navdeep Jaitly}, \n",
      "    Editor = {Tony Jebara and Eric P. Xing}, \n",
      "    Year = {2014}, \n",
      "    Booktitle = {Proceedings of the 31st International Conference on Machine Learning (ICML-14)}, \n",
      "    Pages = {1764-1772} \n",
      "   },\n",
      "@article{hochreiter1997long,\n",
      "  title={Long short-term memory},\n",
      "  author={Hochreiter, Sepp and Schmidhuber, J{\\\"u}rgen},\n",
      "  journal={Neural computation},\n",
      "  volume={9},\n",
      "  number={8},\n",
      "  pages={1735--1780},\n",
      "  year={1997},\n",
      "  publisher={MIT Press}\n",
      "}\n"
     ]
    }
   ],
   "source": [
    "import datetime\n",
    "def bibtex_from_df(df):\n",
    "    \"\"\"Create a bibtex string from\"\"\"\n",
    "    bibtex_str = \"\"\n",
    "    bibtex_str += \"%% Bibtex file generated from Airtable Reference Manager\\n\"\n",
    "    bibtex_str += \"%% Generated at {}\\n\\n\".format(datetime.datetime.now())\n",
    "    \n",
    "    bibtex_str += \",\\n\".join(df['BibTex Reference'].dropna().map(lambda x: x.strip('\\n')))\n",
    "    return bibtex_str\n",
    "\n",
    "def write_bibtex(bibtex, filename):\n",
    "    with open(filename, 'w') as fh:\n",
    "        fh.write(bibte)\n",
    "\n",
    "# Write your whole references file to a bibtex string\n",
    "print bibtex_from_df(rdf)"
   ]
  },
  {
   "cell_type": "code",
   "execution_count": 169,
   "metadata": {
    "collapsed": false
   },
   "outputs": [
    {
     "name": "stdout",
     "output_type": "stream",
     "text": [
      "%% Bibtex file generated from Airtable Reference Manager\n",
      "%% Generated at 2016-06-12 12:02:10.440437\n",
      "\n",
      "@article{keshav2007read,\n",
      "  title={How to read a paper},\n",
      "  author={Keshav, S},\n",
      "  journal={ACM SIGCOMM Computer Communication Review},\n",
      "  volume={37},\n",
      "  number={3},\n",
      "  pages={83--84},\n",
      "  year={2007},\n",
      "  publisher={ACM}\n",
      "},\n",
      "@article{hinton2006reducing,\n",
      "  title={Reducing the dimensionality of data with neural networks},\n",
      "  author={Hinton, Geoffrey E and Salakhutdinov, Ruslan R},\n",
      "  journal={Science},\n",
      "  volume={313},\n",
      "  number={5786},\n",
      "  pages={504--507},\n",
      "  year={2006},\n",
      "  publisher={American Association for the Advancement of Science}\n",
      "},\n",
      "@article{eck2002first,\n",
      "  title={A first look at music composition using lstm recurrent neural networks},\n",
      "  author={Eck, Douglas and Schmidhuber, Juergen},\n",
      "  journal={Istituto Dalle Molle Di Studi Sull Intelligenza Artificiale},\n",
      "  volume={103},\n",
      "  year={2002}\n",
      "},\n",
      "@article{graves2005framewise,\n",
      "  title={Framewise phoneme classification with bidirectional LSTM and other neural network architectures},\n",
      "  author={Graves, Alex and Schmidhuber, J{\\\"u}rgen},\n",
      "  journal={Neural Networks},\n",
      "  volume={18},\n",
      "  number={5},\n",
      "  pages={602--610},\n",
      "  year={2005},\n",
      "  publisher={Elsevier}\n",
      "},\n",
      "@inproceedings{graves2013speech,\n",
      "  title={Speech recognition with deep recurrent neural networks},\n",
      "  author={Graves, Alex and Mohamed, Abdel-rahman and Hinton, Geoffrey},\n",
      "  booktitle={Acoustics, Speech and Signal Processing (ICASSP), 2013 IEEE International Conference on},\n",
      "  pages={6645--6649},\n",
      "  year={2013},\n",
      "  organization={IEEE}\n",
      "}\n"
     ]
    }
   ],
   "source": [
    "# ... Or choose a subset!\n",
    "# Write your whole references file to a bibtex string\n",
    "print bibtex_from_df(rdf.sample(5))"
   ]
  },
  {
   "cell_type": "code",
   "execution_count": null,
   "metadata": {
    "collapsed": true
   },
   "outputs": [],
   "source": []
  }
 ],
 "metadata": {
  "kernelspec": {
   "display_name": "Python 2",
   "language": "python",
   "name": "python2"
  },
  "language_info": {
   "codemirror_mode": {
    "name": "ipython",
    "version": 2
   },
   "file_extension": ".py",
   "mimetype": "text/x-python",
   "name": "python",
   "nbconvert_exporter": "python",
   "pygments_lexer": "ipython2",
   "version": "2.7.10"
  }
 },
 "nbformat": 4,
 "nbformat_minor": 0
}
